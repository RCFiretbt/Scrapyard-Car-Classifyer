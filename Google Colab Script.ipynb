{
  "nbformat": 4,
  "nbformat_minor": 0,
  "metadata": {
    "colab": {
      "name": "Untitled0.ipynb",
      "provenance": []
    },
    "kernelspec": {
      "name": "python3",
      "display_name": "Python 3"
    },
    "language_info": {
      "name": "python"
    },
    "accelerator": "GPU"
  },
  "cells": [
    {
      "cell_type": "code",
      "metadata": {
        "id": "BILPHHJCC-uY"
      },
      "source": [
	"!git clone https://github.com/RCFiretbt/Scrapyard-Car-Classifyer.git"
        "%cd /content/Scrapyard-Car-Classifyer\n",
        "!pip install torch==1.7.1+cu101 torchvision==0.8.2+cu101 torchaudio==0.7.2 -f https://download.pytorch.org/whl/torch_stable.html\n",
        "!pip install -r requirements.txt"
      ],
      "execution_count": null,
      "outputs": []
    },
    {
      "cell_type": "code",
      "metadata": {
        "id": "VdVnE-X3GyKE"
      },
      "source": [
        "%cd /content/Scrapyard-Car-Classifyer\n",
        "!python track.py --yolo_weights yolov5/weights/best.pt --source test.mp4 --save-vid "
      ],
      "execution_count": null,
      "outputs": []
    }
  ]
}